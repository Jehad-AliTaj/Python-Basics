{
 "cells": [
  {
   "cell_type": "markdown",
   "id": "074959f4",
   "metadata": {},
   "source": [
    "# Python Conditions and If statements\n",
    "\n",
    "\n",
    "Python supports the usual logical conditions from mathematics:\n",
    "\n",
    "Equals: a == b\n",
    "\n",
    "Not Equals: a != b\n",
    "\n",
    "Less than: a < b\n",
    "\n",
    "Less than or equal to: a <= b\n",
    "\n",
    "Greater than: a > b\n",
    "\n",
    "Greater than or equal to: a >= b\n",
    "\n",
    "These conditions can be used in several ways, most commonly in \"if statements\" and loops.\n",
    "\n",
    "An \"if statement\" is written by using the if keyword."
   ]
  },
  {
   "cell_type": "markdown",
   "id": "24ed7dbd",
   "metadata": {},
   "source": [
    "**There are three types of conditional statements that we are gonna learn**\n",
    "\n",
    "1) if Statement\n",
    "\n",
    "2) if-else Statement\n",
    "\n",
    "3) if-elif-else Statement\n",
    "\n"
   ]
  },
  {
   "cell_type": "markdown",
   "id": "65f31c28",
   "metadata": {},
   "source": [
    "# if statement"
   ]
  },
  {
   "cell_type": "markdown",
   "id": "99390cdb",
   "metadata": {},
   "source": [
    "**Syntax**\n",
    "\n",
    "**if condition: perform task**"
   ]
  },
  {
   "cell_type": "code",
   "execution_count": 2,
   "id": "ae259ac8",
   "metadata": {},
   "outputs": [
    {
     "name": "stdout",
     "output_type": "stream",
     "text": [
      "b is greater than a\n"
     ]
    }
   ],
   "source": [
    "a = 33\n",
    "b = 200\n",
    "if b > a:\n",
    "  print(\"b is greater than a\")"
   ]
  },
  {
   "cell_type": "code",
   "execution_count": 12,
   "id": "566b2330",
   "metadata": {
    "scrolled": true
   },
   "outputs": [
    {
     "name": "stdout",
     "output_type": "stream",
     "text": [
      "Enter any number: 22\n",
      "Enter 2nd number: 22\n",
      "x is equal to y\n"
     ]
    }
   ],
   "source": [
    "x = int(input(\"Enter any number: \"))\n",
    "y= int(input(\"Enter 2nd number: \"))\n",
    "if x == y:\n",
    "    print('x is equal to y')"
   ]
  },
  {
   "cell_type": "code",
   "execution_count": 13,
   "id": "16b67328",
   "metadata": {},
   "outputs": [
    {
     "name": "stdout",
     "output_type": "stream",
     "text": [
      "5 is a positive number\n",
      "This is always printed\n"
     ]
    }
   ],
   "source": [
    "a = 5 \n",
    "if a > 0:\n",
    "    print(a, 'is a positive number')\n",
    "    \n",
    "print('This is always printed')"
   ]
  },
  {
   "cell_type": "markdown",
   "id": "f54e069a",
   "metadata": {},
   "source": [
    "**if the given condition is not met, then the instructions inside the if statement are skipped**"
   ]
  },
  {
   "cell_type": "code",
   "execution_count": 14,
   "id": "776fe003",
   "metadata": {
    "scrolled": true
   },
   "outputs": [
    {
     "name": "stdout",
     "output_type": "stream",
     "text": [
      "Enter an actor's name: Shahid Kapoor\n",
      "\n",
      "the actor Shahid Kapoor is from bollywood\n",
      "\n",
      "Shahid Kapoor latest movie will be released on April 1st, 2022\n",
      "\n",
      "This movie going to be a block buster\n",
      "\n",
      "and it's going to do a business of 500 billion Rs\n",
      "\n"
     ]
    }
   ],
   "source": [
    "boll_list = ['Krity Sanon', 'Alia Butt','Deepika Padukone', 'Katrina Kaif', 'Shraddha Kapoor','Sonam Kapoor', 'Parinity Chopra',\n",
    "             'Anushka Sharma', 'Priyanka Chopra','Kareena Kapoor Khan','Salman Khan', 'Shahrukh Khan', 'Amir Khan', \n",
    "             'Saif Ali Khan', 'Amitabh Bachan', 'Shahid Kapoor', 'Ranveer Kapoor', 'Varun Dhavan', 'Rhitik Roshan', \n",
    "             'Sanjay Dutt','Ranveer Singh', 'Ajay Devgan', 'Kapil Sharma']\n",
    "\n",
    "actor = input(\"Enter an actor's name: \")\n",
    "\n",
    "if actor in boll_list:\n",
    "    print('\\nthe actor',actor, 'is from bollywood\\n')\n",
    "    print(actor, \"latest movie will be released on April 1st, 2022\\n\")\n",
    "    print(\"This movie going to be a block buster\\n\")\n",
    "    print(\"and it's going to do a business of 500 billion Rs\\n\")"
   ]
  },
  {
   "cell_type": "markdown",
   "id": "a523e75b",
   "metadata": {},
   "source": [
    "# Nested if Statements\n"
   ]
  },
  {
   "cell_type": "code",
   "execution_count": 15,
   "id": "d90e4621",
   "metadata": {},
   "outputs": [
    {
     "name": "stdout",
     "output_type": "stream",
     "text": [
      "Enter a number: 2\n",
      "The number 2 is positive\n",
      "The Number 2 is also even\n"
     ]
    }
   ],
   "source": [
    "a = int(input('Enter a number: '))\n",
    "if a > 0:\n",
    "    print('The number', a, 'is positive')\n",
    "    if a % 2 == 0:\n",
    "        print('The Number', a, 'is also even')\n",
    "        if a > 10:\n",
    "            print('The number', a, 'is also greater than 10')"
   ]
  },
  {
   "cell_type": "code",
   "execution_count": 19,
   "id": "9900d3a5",
   "metadata": {},
   "outputs": [
    {
     "name": "stdout",
     "output_type": "stream",
     "text": [
      "Entre a number: 15\n",
      "Above ten,\n"
     ]
    }
   ],
   "source": [
    "x = int(input('Entre a number: '))\n",
    "\n",
    "if x > 10:\n",
    "    print(\"Above ten,\")\n",
    "    if x > 20:\n",
    "        print(\"and also above 20!\")\n"
   ]
  },
  {
   "cell_type": "markdown",
   "id": "4b2d6a55",
   "metadata": {},
   "source": [
    "# One Line if Statements"
   ]
  },
  {
   "cell_type": "code",
   "execution_count": 20,
   "id": "953cd52c",
   "metadata": {},
   "outputs": [
    {
     "name": "stdout",
     "output_type": "stream",
     "text": [
      "a is greater than b\n"
     ]
    }
   ],
   "source": [
    "a ,b = 100,20\n",
    "if a > b: print('a is greater than b')"
   ]
  },
  {
   "cell_type": "code",
   "execution_count": 21,
   "id": "2cd7a721",
   "metadata": {},
   "outputs": [
    {
     "name": "stdout",
     "output_type": "stream",
     "text": [
      "a\n",
      "p\n",
      "p\n",
      "l\n",
      "e\n"
     ]
    }
   ],
   "source": [
    "# if there are multiple statements/instructions inside the body of if statement then we can write as\n",
    "\n",
    "if 'a' in 'apple': print('a'); print('p'); print('p'); print('l'); print('e')"
   ]
  },
  {
   "cell_type": "markdown",
   "id": "dc0ef6e6",
   "metadata": {},
   "source": [
    "# 2) if-else Statement"
   ]
  },
  {
   "cell_type": "markdown",
   "id": "9c38b8a1",
   "metadata": {},
   "source": [
    "**if the condition in true then \" if \" body is excuted otherwise else body is executed**"
   ]
  },
  {
   "cell_type": "code",
   "execution_count": 22,
   "id": "fed1909a",
   "metadata": {},
   "outputs": [
    {
     "name": "stdout",
     "output_type": "stream",
     "text": [
      "Enter a number: 8\n",
      "The number 8 is an Even number\n"
     ]
    }
   ],
   "source": [
    "a = int(input(\"Enter a number: \"))\n",
    "\n",
    "if a%2 == 0:\n",
    "    print('The number', a, 'is an Even number')\n",
    "else:\n",
    "    print('The number', a, 'is an Odd number')"
   ]
  },
  {
   "cell_type": "code",
   "execution_count": 23,
   "id": "cbec19ee",
   "metadata": {},
   "outputs": [
    {
     "name": "stdout",
     "output_type": "stream",
     "text": [
      "Enter the value of x: 5\n",
      "Enter the value of y: 4\n",
      "\n",
      "x is greater than y\n",
      "\n",
      "(Running if block)\n",
      "\n"
     ]
    }
   ],
   "source": [
    "x = int(input('Enter the value of x: '))\n",
    "y = int(input('Enter the value of y: '))\n",
    "\n",
    "if x > y:\n",
    "    print('\\nx is greater than y\\n')\n",
    "    print('(Running if block)\\n')\n",
    "else:\n",
    "    print('\\ny is greater than x\\n')\n",
    "    print('(Running else block)')"
   ]
  },
  {
   "cell_type": "code",
   "execution_count": 24,
   "id": "87ef9573",
   "metadata": {},
   "outputs": [
    {
     "name": "stdout",
     "output_type": "stream",
     "text": [
      "Enter an actor's name: Kareena Kapoor\n",
      "\n",
      " Kareena Kapoor is not in our actor's list :p\n"
     ]
    }
   ],
   "source": [
    "boll_tup = ('Krity Sanon', 'Alia Bhatt','Deepika Padukone', 'Katrina Kaif', 'Shraddha Kapoor','Sonam Kapoor', 'Parinity Chopra',\n",
    "             'Anushka Sharma', 'Priyanka Chopra','Kareena Kapoor Khan','Salman Khan', 'Shahrukh Khan', 'Amir Khan', \n",
    "             'Saif Ali Khan', 'Amitabh Bachan', 'Shahid Kapoor', 'Ranveer Kapoor', 'Varun Dhavan', 'Rhitik Roshan', \n",
    "             'Sanjay Dutt','Ranveer Singh', 'Ajay Devgan', 'Kapil Sharma')\n",
    "\n",
    "actor = input(\"Enter an actor's name: \")\n",
    "\n",
    "if actor in boll_tup:\n",
    "    print('\\nthe artist',actor, 'is from bollywood\\n')\n",
    "    print(actor, \"latest movie will be released on April 1st, 2022\\n\")\n",
    "    print(\"This movie is expexted to be a block buster one\\n\")\n",
    "    print(\"and it's going to do a business of 500 billion Rs\\n\")\n",
    "else:\n",
    "    print(\"\\n\",actor, \"is not in our actor's list :p\")"
   ]
  },
  {
   "cell_type": "markdown",
   "id": "017c1185",
   "metadata": {},
   "source": [
    "## One line if-else Statements"
   ]
  },
  {
   "cell_type": "code",
   "execution_count": 25,
   "id": "7925e05e",
   "metadata": {},
   "outputs": [
    {
     "name": "stdout",
     "output_type": "stream",
     "text": [
      "Enter x: 55\n",
      "Enter y: 55\n",
      "y is greatest of them all\n",
      "Long live the \"y\"\n",
      "Nahin samjhay!\n"
     ]
    }
   ],
   "source": [
    "x , y = int(input('Enter x: ')), int(input('Enter y: '))\n",
    "if x > y : print('x is greatest of them all'); print('Long live the \"x\"'); print('Samajh rahey ho na?')\n",
    "else: print('y is greatest of them all'); print('Long live the \"y\"'); print('Nahin samjhay!')"
   ]
  },
  {
   "cell_type": "markdown",
   "id": "ddd17a2e",
   "metadata": {},
   "source": [
    "# 3) if-elif-else Statements\n",
    "\n",
    "\n",
    "**In if-elif-else statements;\n",
    "1) multiple conditions are checked\n",
    "\n",
    "\n",
    "2) if the condition for \" if \" is FALSE, then the condition in \" elif \" is executed and so on\n",
    "\n",
    "3) if all the conditions are found to be FALSE then and only then the body of \" else \" is executed**"
   ]
  },
  {
   "cell_type": "code",
   "execution_count": null,
   "id": "1e7375d1",
   "metadata": {},
   "outputs": [],
   "source": []
  },
  {
   "cell_type": "code",
   "execution_count": 4,
   "id": "d2ea7a4a",
   "metadata": {},
   "outputs": [
    {
     "name": "stdout",
     "output_type": "stream",
     "text": [
      "a is greater than b\n"
     ]
    }
   ],
   "source": [
    "a = 200\n",
    "b = 33\n",
    "if b > a:\n",
    "  print(\"b is greater than a\")\n",
    "elif a == b:\n",
    "  print(\"a and b are equal\")\n",
    "else:\n",
    "  print(\"a is greater than b\")"
   ]
  },
  {
   "cell_type": "markdown",
   "id": "d981f0c2",
   "metadata": {},
   "source": [
    "In this example a is greater than b, so the first condition is not true, also the elif condition is not true, so we go to the else condition and print to screen that \"a is greater than b\".\n",
    "\n",
    "You can also have an else without the elif:"
   ]
  },
  {
   "cell_type": "code",
   "execution_count": 5,
   "id": "80676806",
   "metadata": {},
   "outputs": [
    {
     "name": "stdout",
     "output_type": "stream",
     "text": [
      "b is not greater than a\n"
     ]
    }
   ],
   "source": [
    "a = 200\n",
    "b = 33\n",
    "if b > a:\n",
    "  print(\"b is greater than a\")\n",
    "else:\n",
    "  print(\"b is not greater than a\")"
   ]
  },
  {
   "cell_type": "code",
   "execution_count": 26,
   "id": "829ee6ca",
   "metadata": {},
   "outputs": [
    {
     "name": "stdout",
     "output_type": "stream",
     "text": [
      "Enter a value of a: 55\n",
      "The given number is Positive\n",
      "55 is an Odd number\n"
     ]
    }
   ],
   "source": [
    "a = int(input('Enter a value of a: '))\n",
    "\n",
    "if a > 0:\n",
    "    print('The given number is Positive')\n",
    "    if a%2 == 0:\n",
    "        print(a, 'is an Even number')\n",
    "    else:\n",
    "        print(a, 'is an Odd number')\n",
    "elif a < 0:\n",
    "    print('The given number is Negative')\n",
    "    if a%2 == 0:\n",
    "        print(a, 'is a negative even')\n",
    "else:\n",
    "    print('The given number is Zero')"
   ]
  },
  {
   "cell_type": "code",
   "execution_count": 27,
   "id": "2f7a5598",
   "metadata": {
    "scrolled": false
   },
   "outputs": [
    {
     "name": "stdout",
     "output_type": "stream",
     "text": [
      "What is the weather today? sunny\n",
      "Take Your Glasses with you!\n",
      "and don't forget to wear a cap\n"
     ]
    }
   ],
   "source": [
    "# Example\n",
    "\n",
    "\n",
    "\n",
    "weather = input('What is the weather today? ')\n",
    "\n",
    "if weather == 'Sunny' or weather == 'sunny':\n",
    "    print('Take Your Glasses with you!')\n",
    "    print(\"and don't forget to wear a cap\")\n",
    "elif weather == 'Rainy' or weather == 'rainy':\n",
    "    print('Take your Umbrella with you!')\n",
    "    print('Make sure to wear boots!')\n",
    "elif weather == 'Stormy' or weather == 'stormy' or weather == 'Thunderstorm' or weather == 'thunderstorm':\n",
    "    print(\"It's better that you don't leave the house today!\")\n",
    "else:\n",
    "    print('Do as you Wish!')"
   ]
  },
  {
   "cell_type": "markdown",
   "id": "0707bfb0",
   "metadata": {},
   "source": [
    "# Nested if-else statements"
   ]
  },
  {
   "cell_type": "markdown",
   "id": "830ac554",
   "metadata": {},
   "source": [
    "### TASK - 1\n",
    "\n",
    "* Write a program to accept the cost price of a bike and display the road tax to be paid according to the following criteria\n",
    "\n",
    "* Cost price (in Rs)------------------- Tax\n",
    "\n",
    "* > 100000----------------------------- 15%\n",
    "* > 50000 and <= 100000---------------- 10%\n",
    "* <= 50000----------------------------- 5%\n"
   ]
  },
  {
   "cell_type": "code",
   "execution_count": 28,
   "id": "52de9885",
   "metadata": {},
   "outputs": [
    {
     "name": "stdout",
     "output_type": "stream",
     "text": [
      "Enter cost price of the bike: 100000\n",
      "You have to pay a tax of Rs:  10000.0\n"
     ]
    }
   ],
   "source": [
    "cost = int(input('Enter cost price of the bike: '))\n",
    "\n",
    "if cost > 100000:\n",
    "    tax = cost * 0.15\n",
    "    print('You have to pay a tax of Rs: ', tax)\n",
    "elif cost > 50000 and cost <= 100000:\n",
    "    tax = cost * 0.10\n",
    "    print('You have to pay a tax of Rs: ',tax)\n",
    "else:\n",
    "    tax = cost * 0.05\n",
    "    print('You gave to pay a tax of Rs: ', tax)"
   ]
  },
  {
   "cell_type": "markdown",
   "id": "bca1d34e",
   "metadata": {},
   "source": [
    "### TASK 2\n",
    "\n",
    "**Write a program to accept a number from 1 to 7 and display the name of the day like 1 for Sunday , 2 for Monday and so on**"
   ]
  },
  {
   "cell_type": "code",
   "execution_count": 29,
   "id": "ed27e4a9",
   "metadata": {},
   "outputs": [
    {
     "name": "stdout",
     "output_type": "stream",
     "text": [
      "Enter a number between 1 and 7: 5\n",
      "5 for Thursday\n"
     ]
    }
   ],
   "source": [
    "number = int(input('Enter a number between 1 and 7: '))\n",
    "if number == 1:\n",
    "    print('1 for Sunday')\n",
    "elif number == 2:\n",
    "    print('2 for Monday')\n",
    "elif number == 3:\n",
    "    print('3 for Tuesday')\n",
    "elif number == 4:\n",
    "    print('4 for Wednesday')\n",
    "elif number == 5:\n",
    "    print('5 for Thursday')\n",
    "elif number == 6:\n",
    "    print('6 for Friday')\n",
    "elif number == 7:\n",
    "    print('7 for Saturday')\n",
    "else:\n",
    "    print('Enter a number between 1 and 7: ')"
   ]
  },
  {
   "cell_type": "markdown",
   "id": "46137497",
   "metadata": {},
   "source": [
    "# CLASS_TASKS\n",
    "\n",
    "1) Write a program to accept a number from 1 to 12 and display name of the month and days in that month like 1 for January and number of days 31 and so on\n",
    "\n",
    "\n",
    "2) Write the logical expression for the following: A is greater than B and C is greater than D\n",
    "\n",
    "\n",
    "3) Accept any city from the user and display monument of that city, Peshawar, Lahore, Karachi, Islamabad, Multan, Faisalabad\n",
    "\n",
    "\n",
    "4) Write a program to check whether a number entered is three digit number or not\n",
    "\n",
    "\n",
    "5) Write a program to find the largest number out of three numbers entered by the user\n",
    "\n",
    "\n",
    "\n",
    "6) Write a program that asks the user to enter a year and month.The program should tell if the year is a leap year or not and it should also give the number of days in the month entered"
   ]
  },
  {
   "cell_type": "code",
   "execution_count": null,
   "id": "726d4281",
   "metadata": {},
   "outputs": [],
   "source": []
  },
  {
   "cell_type": "code",
   "execution_count": null,
   "id": "57d69c98",
   "metadata": {},
   "outputs": [],
   "source": []
  },
  {
   "cell_type": "code",
   "execution_count": null,
   "id": "805a8efc",
   "metadata": {},
   "outputs": [],
   "source": []
  },
  {
   "cell_type": "code",
   "execution_count": null,
   "id": "848e2458",
   "metadata": {},
   "outputs": [],
   "source": []
  },
  {
   "cell_type": "code",
   "execution_count": null,
   "id": "faced636",
   "metadata": {},
   "outputs": [],
   "source": []
  },
  {
   "cell_type": "markdown",
   "id": "c7f14a3b",
   "metadata": {},
   "source": [
    "## Conditional Expressions OR Python's Ternary Operator"
   ]
  },
  {
   "cell_type": "markdown",
   "id": "d0a70319",
   "metadata": {},
   "source": [
    "Operators that evaluate something based on condition being true or false\n",
    "\n",
    "The condition is first executed, and if turns out to be \"True\" than first statement is executed otherwise second statement is executed\n",
    "\n",
    "Syntax\n",
    "\n",
    "1) Condition is evaluated first\n",
    "\n",
    "\n",
    "2) If \"condition\" holds \"True\" then Statement No 1 is executed\n",
    "\n",
    "\n",
    "3) If \"condition\" holds \"False\" then Statement No 2 is executed "
   ]
  },
  {
   "cell_type": "code",
   "execution_count": 30,
   "id": "f6f97f93",
   "metadata": {},
   "outputs": [
    {
     "name": "stdout",
     "output_type": "stream",
     "text": [
      "What is the weather today? raining\n",
      "Don't leave the house today!\n"
     ]
    }
   ],
   "source": [
    "Weather = input('What is the weather today? ')\n",
    "\n",
    "print(\"Don't leave the house today!\" if Weather == 'raining' else \"You can go wherever you want to!\" )"
   ]
  },
  {
   "cell_type": "code",
   "execution_count": 31,
   "id": "712537a1",
   "metadata": {},
   "outputs": [
    {
     "name": "stdout",
     "output_type": "stream",
     "text": [
      "Enter a number: 55\n",
      "Enter a 2nd number: 44\n",
      "60\n"
     ]
    }
   ],
   "source": [
    "a = int(input('Enter a number: '))\n",
    "b = int(input('Enter a 2nd number: '))\n",
    "\n",
    "m = (a + 5) if a > b else (b + 5)\n",
    "print(m)"
   ]
  },
  {
   "cell_type": "code",
   "execution_count": null,
   "id": "0ee53b18",
   "metadata": {},
   "outputs": [],
   "source": []
  },
  {
   "cell_type": "markdown",
   "id": "18a4de4f",
   "metadata": {},
   "source": [
    "## Conditional statements can also be combined into multiple conditions like alternative if-elif-else statements"
   ]
  },
  {
   "cell_type": "code",
   "execution_count": 32,
   "id": "16bb2602",
   "metadata": {},
   "outputs": [
    {
     "name": "stdout",
     "output_type": "stream",
     "text": [
      "Enter a number: 15\n",
      "Islamabad\n"
     ]
    }
   ],
   "source": [
    "x = int(input('Enter a number: '))\n",
    "series = ('Peshawar' if x <= 10 else\n",
    "        'Islamabad' if (x > 10 and x <= 20) else\n",
    "         'Karachi' if (x > 20 and x <= 30) else\n",
    "         'Lahore' if (x > 30 and x <= 40) else\n",
    "         'DI Khan' if (x >= 40) else 'Enter a correct number'\n",
    "         )\n",
    "print(series)"
   ]
  },
  {
   "cell_type": "markdown",
   "id": "0b65fd40",
   "metadata": {},
   "source": [
    "# Short Hand If ... Else\n",
    "\n",
    "**If you have only one statement to execute, one for if, and one for else, you can put it all on the same line:**"
   ]
  },
  {
   "cell_type": "code",
   "execution_count": null,
   "id": "383d350f",
   "metadata": {},
   "outputs": [],
   "source": []
  },
  {
   "cell_type": "markdown",
   "id": "d2cbc75f",
   "metadata": {},
   "source": [
    "**Example**\n",
    "One line if else statement:"
   ]
  },
  {
   "cell_type": "code",
   "execution_count": 7,
   "id": "324a2cd5",
   "metadata": {},
   "outputs": [
    {
     "name": "stdout",
     "output_type": "stream",
     "text": [
      "Tek dy\n"
     ]
    }
   ],
   "source": [
    "a=2 \n",
    "b=3\n",
    "print('Tek dy') if b>a else print (\"Ghalat dy\")"
   ]
  },
  {
   "cell_type": "markdown",
   "id": "e3a8b6c9",
   "metadata": {},
   "source": [
    "**this technique is known as Ternary Operators, or Conditional Expressions**"
   ]
  },
  {
   "cell_type": "markdown",
   "id": "fd0659d0",
   "metadata": {},
   "source": [
    "**You can also have multiple else statements on the same line:**\n",
    "\n",
    "**Example**\n",
    "\n",
    "One line if else statement, with 3 conditions:"
   ]
  },
  {
   "cell_type": "code",
   "execution_count": 2,
   "id": "c10af65d",
   "metadata": {},
   "outputs": [
    {
     "name": "stdout",
     "output_type": "stream",
     "text": [
      "tek da haa\n"
     ]
    }
   ],
   "source": [
    "a=25\n",
    "b=26\n",
    "print('tek da haa') if a!=b else print('Ghalat') "
   ]
  },
  {
   "cell_type": "markdown",
   "id": "7f1882b1",
   "metadata": {},
   "source": [
    "# And\n",
    "\n",
    "**The and keyword is a logical operator, and is used to combine conditional statements:*"
   ]
  },
  {
   "cell_type": "markdown",
   "id": "2f98e233",
   "metadata": {},
   "source": [
    "**Example**"
   ]
  },
  {
   "cell_type": "code",
   "execution_count": 1,
   "id": "ab735a89",
   "metadata": {},
   "outputs": [
    {
     "name": "stdout",
     "output_type": "stream",
     "text": [
      "Both conditions are True\n"
     ]
    }
   ],
   "source": [
    "X = 200\n",
    "Y = 33\n",
    "Z = 500\n",
    "if X > Y and Z > X:\n",
    "  print(\"Both conditions are True\")"
   ]
  },
  {
   "cell_type": "markdown",
   "id": "1360afc7",
   "metadata": {},
   "source": [
    "# Or\n",
    "**The or keyword is a logical operator, and is used to combine conditional statements:**"
   ]
  },
  {
   "cell_type": "code",
   "execution_count": 10,
   "id": "43d65663",
   "metadata": {},
   "outputs": [
    {
     "name": "stdout",
     "output_type": "stream",
     "text": [
      "At least one of the conditions is True\n"
     ]
    }
   ],
   "source": [
    "a = 200\n",
    "b = 33\n",
    "c = 500\n",
    "if a > b or a > c:\n",
    "    print(\"At least one of the conditions is True\")"
   ]
  },
  {
   "cell_type": "markdown",
   "id": "80fc3a56",
   "metadata": {},
   "source": [
    "# The pass Statement\n",
    "**if statements cannot be empty, but if you for some reason have an if statement with no content, put in the pass statement to avoid getting an error.**"
   ]
  },
  {
   "cell_type": "code",
   "execution_count": 7,
   "id": "80715fcc",
   "metadata": {},
   "outputs": [],
   "source": [
    "a = 33\n",
    "b = 200\n",
    "\n",
    "if b > a:\n",
    "    pass\n"
   ]
  },
  {
   "cell_type": "code",
   "execution_count": null,
   "id": "3640c0d9",
   "metadata": {},
   "outputs": [],
   "source": []
  }
 ],
 "metadata": {
  "kernelspec": {
   "display_name": "Python 3",
   "language": "python",
   "name": "python3"
  },
  "language_info": {
   "codemirror_mode": {
    "name": "ipython",
    "version": 3
   },
   "file_extension": ".py",
   "mimetype": "text/x-python",
   "name": "python",
   "nbconvert_exporter": "python",
   "pygments_lexer": "ipython3",
   "version": "3.8.8"
  }
 },
 "nbformat": 4,
 "nbformat_minor": 5
}
