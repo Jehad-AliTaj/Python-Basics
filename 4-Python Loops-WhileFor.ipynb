{
 "cells": [
  {
   "cell_type": "markdown",
   "id": "a20db724",
   "metadata": {},
   "source": [
    "# Python Loops\n",
    "\n",
    "Python language has two loop commmands\n",
    "\n",
    "* 1) while loop aka indefinte iteration\n",
    "\n",
    "* 2) for loop aka definite iteration"
   ]
  },
  {
   "cell_type": "markdown",
   "id": "43dbbec4",
   "metadata": {},
   "source": [
    "## What is Iteration?\n",
    "\n",
    "The process of doing something again and again OR the act of reapeating steps is called iteration\n",
    "\n",
    "In programming iteration means \"Repeating a set of instructions over and over is known as iteration\""
   ]
  },
  {
   "cell_type": "markdown",
   "id": "ccf901cb",
   "metadata": {},
   "source": [
    "## 1) While Loop (Indefinite Iteration)"
   ]
  },
  {
   "cell_type": "markdown",
   "id": "e55778ec",
   "metadata": {},
   "source": [
    "While loop excecutes certain instructions again n' again as long as the condition holds true\n",
    "\n",
    "It's called indefinite iteration because number of times a loop executed is not specified explicitly\n",
    "\n",
    "It iterates as long as the test condition is true\n",
    "\n",
    "Leaves the loop when test condition is false"
   ]
  },
  {
   "cell_type": "markdown",
   "id": "a510f341",
   "metadata": {},
   "source": [
    "### Example 1: Writing a program that prints a sentence multiple times based on the condition provided"
   ]
  },
  {
   "cell_type": "code",
   "execution_count": 1,
   "id": "b5eb98b9",
   "metadata": {},
   "outputs": [
    {
     "name": "stdout",
     "output_type": "stream",
     "text": [
      "Sa position dy\n",
      "Sa position dy\n",
      "Sa position dy\n"
     ]
    }
   ],
   "source": [
    "count=0\n",
    "while count<3:\n",
    "    count=count+1\n",
    "    print(\"Sa position dy\")"
   ]
  },
  {
   "cell_type": "markdown",
   "id": "7aeeec27",
   "metadata": {},
   "source": [
    "### Example 2: Writing a program that prints each number based on the condition provided"
   ]
  },
  {
   "cell_type": "code",
   "execution_count": 3,
   "id": "b26efbbc",
   "metadata": {},
   "outputs": [
    {
     "name": "stdout",
     "output_type": "stream",
     "text": [
      "0\n",
      "1\n",
      "2\n",
      "3\n",
      "4\n",
      "5\n"
     ]
    }
   ],
   "source": [
    "i=0\n",
    "while i<6:\n",
    "    print(i)\n",
    "    i=i+1"
   ]
  },
  {
   "cell_type": "markdown",
   "id": "120e2efe",
   "metadata": {},
   "source": [
    "### Example 3: Writing a program that iterate over the given sequence and prints each character"
   ]
  },
  {
   "cell_type": "code",
   "execution_count": 12,
   "id": "4ed49a03",
   "metadata": {},
   "outputs": [
    {
     "name": "stdout",
     "output_type": "stream",
     "text": [
      "Letter:  a\n",
      "Letter:  b\n",
      "Letter:  c\n",
      "Letter:  d\n",
      "Letter:  e\n",
      "Letter:  f\n",
      "Letter:  g\n",
      "Letter:  h\n",
      "Letter:  i\n",
      "Letter:  j\n",
      "Letter:  k\n",
      "Letter:  l\n",
      "Letter:  m\n",
      "Letter:  n\n",
      "Letter:  o\n",
      "Letter:  p\n",
      "Letter:  q\n",
      "Letter:  r\n",
      "Letter:  s\n",
      "Letter:  t\n",
      "Letter:  u\n",
      "Letter:  v\n",
      "Letter:  w\n",
      "Letter:  x\n",
      "Letter:  y\n",
      "Letter:  z\n"
     ]
    }
   ],
   "source": [
    "i=0\n",
    "letters=\"abcdefghijklmnopqrstuvwxyz\"\n",
    "while i < len(letters):\n",
    "    print(\"Letter: \",letters[i])\n",
    "    i=i+1"
   ]
  },
  {
   "cell_type": "markdown",
   "id": "01d3f987",
   "metadata": {},
   "source": [
    "### Example 4: Writing a program that prints the string along with the number of iteration"
   ]
  },
  {
   "cell_type": "code",
   "execution_count": 5,
   "id": "f7bf533c",
   "metadata": {},
   "outputs": [
    {
     "name": "stdout",
     "output_type": "stream",
     "text": [
      "This is while loop 7\n",
      "This is while loop 6\n",
      "This is while loop 5\n",
      "This is while loop 4\n",
      "This is while loop 3\n",
      "This is while loop 2\n",
      "This is while loop 1\n",
      "This is while loop 0\n"
     ]
    }
   ],
   "source": [
    "j=8\n",
    "while j>0:\n",
    "    j-=1\n",
    "    print(\"This is while loop\",j)"
   ]
  },
  {
   "cell_type": "markdown",
   "id": "d8e63d80",
   "metadata": {},
   "source": [
    "### Example 5: Writing a program that iterates over the given list and removes each item from end of the list"
   ]
  },
  {
   "cell_type": "code",
   "execution_count": 6,
   "id": "a3037a55",
   "metadata": {},
   "outputs": [
    {
     "name": "stdout",
     "output_type": "stream",
     "text": [
      "10th\n",
      "9th\n",
      "8th\n",
      "7th\n",
      "6th\n",
      "5th\n",
      "4th\n",
      "3rd\n",
      "2nd\n",
      "1st\n"
     ]
    }
   ],
   "source": [
    "i = ['1st', '2nd', '3rd', '4th', '5th', '6th', '7th', '8th', '9th', '10th']\n",
    "\n",
    "while i:\n",
    "    print(i.pop(-1))"
   ]
  },
  {
   "cell_type": "markdown",
   "id": "0fdc22d8",
   "metadata": {},
   "source": [
    "### Example 6: Writing a program that iterates over the given list and removes each item from start of the list"
   ]
  },
  {
   "cell_type": "code",
   "execution_count": 7,
   "id": "82db7048",
   "metadata": {},
   "outputs": [
    {
     "name": "stdout",
     "output_type": "stream",
     "text": [
      "1st\n",
      "2nd\n",
      "3rd\n",
      "4th\n",
      "5th\n",
      "6th\n",
      "7th\n",
      "8th\n",
      "9th\n",
      "10th\n"
     ]
    }
   ],
   "source": [
    "i = ['1st', '2nd', '3rd', '4th', '5th', '6th', '7th', '8th', '9th', '10th']\n",
    "\n",
    "while i:\n",
    "    print(i.pop(0))"
   ]
  },
  {
   "cell_type": "code",
   "execution_count": null,
   "id": "12ca40c1",
   "metadata": {},
   "outputs": [],
   "source": []
  },
  {
   "cell_type": "markdown",
   "id": "fd5d48f9",
   "metadata": {},
   "source": [
    "### Example 7: Writing a program that iterates over the given list of actors and prints each actor from the list\n"
   ]
  },
  {
   "cell_type": "code",
   "execution_count": 8,
   "id": "f659da26",
   "metadata": {},
   "outputs": [
    {
     "name": "stdout",
     "output_type": "stream",
     "text": [
      "Krity Sanon\n",
      "Alia Bhatt\n",
      "Deepika Padukone\n",
      "Katrina Kaif\n",
      "Shraddha Kapoor\n",
      "Sonam Kapoor\n",
      "Parinity Chopra\n",
      "Anushka Sharma\n",
      "Priyanka Chopra\n",
      "Kareena Kapoor Khan\n",
      "Salman Khan\n",
      "Shahrukh Khan\n",
      "Amir Khan\n",
      "Saif Ali Khan\n",
      "Amitabh Bachan\n",
      "Shahid Kapoor\n",
      "Ranveer Kapoor\n",
      "Varun Dhavan\n",
      "Rhitik Roshan\n",
      "Sanjay Dutt\n",
      "Ranveer Singh\n",
      "Ajay Devgan\n",
      "Kapil Sharma\n"
     ]
    }
   ],
   "source": [
    "actors = ['Krity Sanon', 'Alia Bhatt','Deepika Padukone', 'Katrina Kaif', 'Shraddha Kapoor','Sonam Kapoor', 'Parinity Chopra',\n",
    "             'Anushka Sharma', 'Priyanka Chopra','Kareena Kapoor Khan','Salman Khan', 'Shahrukh Khan', 'Amir Khan', \n",
    "             'Saif Ali Khan', 'Amitabh Bachan', 'Shahid Kapoor', 'Ranveer Kapoor', 'Varun Dhavan', 'Rhitik Roshan', \n",
    "             'Sanjay Dutt','Ranveer Singh', 'Ajay Devgan', 'Kapil Sharma']\n",
    "i = 0\n",
    "while i < len(actors):\n",
    "    print(actors[i])\n",
    "    i += 1"
   ]
  },
  {
   "cell_type": "markdown",
   "id": "44601a46",
   "metadata": {},
   "source": [
    "## Sentinel Controlled Statement"
   ]
  },
  {
   "cell_type": "markdown",
   "id": "c9f8c0e7",
   "metadata": {},
   "source": [
    "Sentinel statement or value is used when to terminate a loop whenever a user enters it\n",
    "\n",
    "No counter variable because we don't know how many times the program will execute\n",
    "\n",
    "User decides the number of iterations\n",
    "\n",
    "User decides the sentinel value in our case we are using -1 (generally used)"
   ]
  },
  {
   "cell_type": "markdown",
   "id": "bb0acdea",
   "metadata": {},
   "source": [
    "### Example 8: Writing a program that takes a number from user and returns square of that number. Use a sentinel value to stop the loop"
   ]
  },
  {
   "cell_type": "code",
   "execution_count": 13,
   "id": "0730c4e1",
   "metadata": {},
   "outputs": [
    {
     "name": "stdout",
     "output_type": "stream",
     "text": [
      "Enter a number: 2\n",
      "Enter a number: 5\n",
      "25\n",
      "Enter a number: 8\n",
      "64\n",
      "Enter a number: 8\n",
      "64\n",
      "Enter a number: -1\n",
      "1\n"
     ]
    }
   ],
   "source": [
    "i = int(input('Enter a number: '))\n",
    "while i != -1:     # -1 is a sentinel value and it stops the loop whenver entered by the user\n",
    "    i = int(input('Enter a number: '))\n",
    "    print(i*i)"
   ]
  },
  {
   "cell_type": "markdown",
   "id": "42758ef2",
   "metadata": {},
   "source": [
    "**Notice that the program ends as soon as the specified sentinel value (-1) is eneterd**"
   ]
  },
  {
   "cell_type": "markdown",
   "id": "c39bd316",
   "metadata": {},
   "source": [
    "### Example 9: Writing a program that takes a number from user and returns square root of that number until a sentinel value is entered"
   ]
  },
  {
   "cell_type": "code",
   "execution_count": 14,
   "id": "4eca721e",
   "metadata": {},
   "outputs": [
    {
     "name": "stdout",
     "output_type": "stream",
     "text": [
      "Enter a number: 2\n",
      "The square root of 2 is 1.4142135623730951\n",
      "Enter a number: 2\n",
      "The square root of 2 is 1.4142135623730951\n",
      "Enter a number: 222\n",
      "The square root of 222 is 14.89966442575134\n",
      "Enter a number: 0\n",
      "The square root of 0 is 0.0\n"
     ]
    }
   ],
   "source": [
    "while i != 0:               \n",
    "    i = int(input('Enter a number: '))\n",
    "    print('The square root of', i ,'is', i**0.5)"
   ]
  },
  {
   "cell_type": "markdown",
   "id": "02ec550e",
   "metadata": {},
   "source": [
    "### Example 10: Writing a program that asks a user to enter a number and returns the cube of that number until a sentinel value is entered, also storing the numbers and their cubes in different lists"
   ]
  },
  {
   "cell_type": "code",
   "execution_count": 15,
   "id": "3c9c68ef",
   "metadata": {},
   "outputs": [
    {
     "name": "stdout",
     "output_type": "stream",
     "text": [
      "Enter a number: 2\n",
      "The cube of 2 is 8\n",
      "Enter a number: 22\n",
      "The cube of 22 is 10648\n",
      "Enter a number: 1000\n",
      "The cube of 1000 is 1000000000\n",
      "[2, 22, 1000] [8, 10648, 1000000000]\n"
     ]
    }
   ],
   "source": [
    "#i = int(input('Enter a number: '))\n",
    "x = []\n",
    "y = []\n",
    "i = 0\n",
    "while i != 1000:               \n",
    "    i = int(input('Enter a number: '))\n",
    "    x.append(i)\n",
    "    y.append(i*i*i)\n",
    "    print('The cube of', i ,'is', i*i*i)\n",
    "print(x, y)"
   ]
  },
  {
   "cell_type": "code",
   "execution_count": 16,
   "id": "53c986f3",
   "metadata": {},
   "outputs": [
    {
     "data": {
      "text/plain": [
       "1000000000"
      ]
     },
     "execution_count": 16,
     "metadata": {},
     "output_type": "execute_result"
    }
   ],
   "source": [
    "x.pop(-1)\n",
    "y.pop(-1)"
   ]
  },
  {
   "cell_type": "code",
   "execution_count": 17,
   "id": "d7608bf4",
   "metadata": {},
   "outputs": [
    {
     "name": "stdout",
     "output_type": "stream",
     "text": [
      "[2, 22] [8, 10648]\n"
     ]
    }
   ],
   "source": [
    "print(x, y)"
   ]
  },
  {
   "cell_type": "markdown",
   "id": "099d094b",
   "metadata": {},
   "source": [
    "### Example 11: Writing a program that iterates over the given list and prints each value in the list according to its index number"
   ]
  },
  {
   "cell_type": "code",
   "execution_count": 19,
   "id": "699fdadd",
   "metadata": {},
   "outputs": [
    {
     "name": "stdout",
     "output_type": "stream",
     "text": [
      "The item at index 0 is 1\n",
      "The item at index 1 is 2\n",
      "The item at index 2 is 3\n",
      "The item at index 3 is 4\n",
      "The item at index 4 is 5\n",
      "The item at index 5 is 6\n",
      "The item at index 6 is 7\n",
      "The item at index 7 is 8\n",
      "The item at index 9 is 8\n",
      "The item at index 10 is 7\n",
      "The item at index 11 is 6\n",
      "The item at index 12 is 5\n",
      "The item at index 14 is 2\n",
      "The item at index 16 is 5\n",
      "The item at index 17 is 7\n",
      "The item at index 18 is 2\n",
      "The item at index 19 is 2\n",
      "The item at index 20 is 2\n",
      "Loop ends here ;P\n"
     ]
    }
   ],
   "source": [
    "lst = [1,2,3,4,5,6,7,8,90,8,7,6,5,43,2,23,5,7,2,2,2]\n",
    "i = 0\n",
    "while i < len(lst):\n",
    "    if lst[i] <= len(lst):\n",
    "        print('The item at index', i, 'is', lst[i])\n",
    "        \n",
    "    i = i+1\n",
    "print ('Loop ends here ;P')"
   ]
  },
  {
   "cell_type": "markdown",
   "id": "1ef22802",
   "metadata": {},
   "source": [
    "## break Statement\n",
    "\n",
    "Using break statement, a while loop can be stopped even when the condition is true!"
   ]
  },
  {
   "cell_type": "markdown",
   "id": "c6a99ac0",
   "metadata": {},
   "source": [
    "### Example 13: Writing a program to stop an infinte loop using break statement"
   ]
  },
  {
   "cell_type": "code",
   "execution_count": 20,
   "id": "3975b6e4",
   "metadata": {},
   "outputs": [
    {
     "name": "stdout",
     "output_type": "stream",
     "text": [
      "2\n",
      "3\n",
      "4\n",
      "5\n",
      "6\n",
      "7\n",
      "8\n",
      "9\n",
      "10\n",
      "break statement ends while loop eventhough the condition is still true\n"
     ]
    }
   ],
   "source": [
    "j = 1\n",
    "while j > 0:\n",
    "    j += 1\n",
    "    print(j)     # Notice the condition in the while will always stay TRUE because 1 is always greater than 0\n",
    "    if j == 10:\n",
    "        break\n",
    "print('break statement ends while loop eventhough the condition is still true')"
   ]
  },
  {
   "cell_type": "markdown",
   "id": "21793f6d",
   "metadata": {},
   "source": [
    "### Example 14: Writing a program prints each iteration of the loop and then stopping the loop using break statement"
   ]
  },
  {
   "cell_type": "code",
   "execution_count": 21,
   "id": "7dc072ff",
   "metadata": {},
   "outputs": [
    {
     "name": "stdout",
     "output_type": "stream",
     "text": [
      "this is 1\n",
      "this is 2\n",
      "this is 3\n",
      "this is 4\n",
      "this is 5\n",
      "this is 6\n",
      "this is 7\n",
      "Loop ended\n"
     ]
    }
   ],
   "source": [
    "i = 1\n",
    "while i < 10:\n",
    "    print('this is',i)\n",
    "    if i == 7:\n",
    "        break\n",
    "    i += 1\n",
    "print('Loop ended')"
   ]
  },
  {
   "cell_type": "markdown",
   "id": "91114ada",
   "metadata": {},
   "source": [
    "#### Multiple break statements\n",
    "We can also use multiple break statements inside a while loop"
   ]
  },
  {
   "cell_type": "markdown",
   "id": "6fcd5bd0",
   "metadata": {},
   "source": [
    "### Example 15: Writing a program that asks the user to enter a number and then evaluates if the number is greater than 0, smaller than 0 or equal to 0"
   ]
  },
  {
   "cell_type": "code",
   "execution_count": 22,
   "id": "7e7bacf4",
   "metadata": {},
   "outputs": [
    {
     "name": "stdout",
     "output_type": "stream",
     "text": [
      "Enter a number: 2\n",
      "The number 2 is greater than 0\n",
      "The loop ends, when one of the above condition is met!\n"
     ]
    }
   ],
   "source": [
    "p = int(input('Enter a number: '))\n",
    "while True:\n",
    "    if p > 0:\n",
    "        print('The number',p, 'is greater than 0')\n",
    "        break\n",
    "    if p < 0:\n",
    "        print('The number', p, 'is less than 0')\n",
    "        break\n",
    "    if p == 0:\n",
    "        print('The number',p, 'is equal to 0')\n",
    "        break\n",
    "print('The loop ends, when one of the above condition is met!')"
   ]
  },
  {
   "cell_type": "markdown",
   "id": "3bf314a5",
   "metadata": {},
   "source": [
    "#### Continue statement"
   ]
  },
  {
   "cell_type": "code",
   "execution_count": 23,
   "id": "36d9a49b",
   "metadata": {},
   "outputs": [
    {
     "name": "stdout",
     "output_type": "stream",
     "text": [
      "this is 9\n",
      "this is 8\n",
      "this is 7\n",
      "this is 6\n",
      "this is 4\n",
      "this is 3\n",
      "this is 2\n",
      "this is 1\n",
      "this is 0\n",
      "Loop ends here\n"
     ]
    }
   ],
   "source": [
    "i = 10\n",
    "while i > 0:\n",
    "    i -= 1\n",
    "    if i == 5:\n",
    "        continue\n",
    "    print('this is',i)\n",
    "print('Loop ends here')"
   ]
  },
  {
   "cell_type": "code",
   "execution_count": null,
   "id": "5860d3e7",
   "metadata": {},
   "outputs": [],
   "source": []
  },
  {
   "cell_type": "markdown",
   "id": "3800641c",
   "metadata": {},
   "source": [
    "#### Example 16: Writing a program that decrements the specified number everytime it iterates, also re-evaluate the loop condition when the number is equal to 5"
   ]
  },
  {
   "cell_type": "code",
   "execution_count": 1,
   "id": "f202dd9b",
   "metadata": {},
   "outputs": [
    {
     "name": "stdout",
     "output_type": "stream",
     "text": [
      "this is 9\n",
      "this is 8\n",
      "this is 7\n",
      "this is 6\n",
      "which one is missing?\n",
      "this is 4\n",
      "this is 3\n",
      "this is 2\n",
      "this is 1\n",
      "this is 0\n",
      "Loop ends here\n"
     ]
    }
   ],
   "source": [
    "i = 10\n",
    "while i > 0:\n",
    "    i -= 1\n",
    "    if i == 5:\n",
    "        print('which one is missing?')\n",
    "        continue\n",
    "    print('this is',i)\n",
    "print('Loop ends here')"
   ]
  },
  {
   "cell_type": "markdown",
   "id": "7c0ef01a",
   "metadata": {},
   "source": [
    "##### Notice how continue statement, re-evaluates the condition in the loop whenever the condition in the \"if statement\" is met\n",
    "\n",
    "##### When the condition in the if statement is met, continue statment skips this value"
   ]
  },
  {
   "cell_type": "code",
   "execution_count": null,
   "id": "4462b469",
   "metadata": {},
   "outputs": [],
   "source": []
  },
  {
   "cell_type": "markdown",
   "id": "83c05b54",
   "metadata": {},
   "source": [
    "#### The else statement\n",
    "\n",
    "* Python allow else statement right after while loop\n",
    "\n",
    "* instructions in else statement are executed only when condition in the while loop turns false\n",
    "\n",
    "* Unique feature found mostly in Python"
   ]
  },
  {
   "cell_type": "code",
   "execution_count": 2,
   "id": "928bab76",
   "metadata": {},
   "outputs": [
    {
     "name": "stdout",
     "output_type": "stream",
     "text": [
      "this is 9\n",
      "this is 8\n",
      "this is 7\n",
      "this is 6\n",
      "this is 5\n",
      "this is 4\n",
      "this is 3\n",
      "this is 2\n",
      "this is 1\n",
      "this is 0\n",
      "Loop ends here\n"
     ]
    }
   ],
   "source": [
    "i = 10\n",
    "while i > 0:\n",
    "    i -= 1\n",
    "    print('this is',i)\n",
    "else:\n",
    "    print('Loop ends here')"
   ]
  },
  {
   "cell_type": "code",
   "execution_count": null,
   "id": "b3ee245e",
   "metadata": {},
   "outputs": [],
   "source": []
  }
 ],
 "metadata": {
  "kernelspec": {
   "display_name": "Python 3",
   "language": "python",
   "name": "python3"
  },
  "language_info": {
   "codemirror_mode": {
    "name": "ipython",
    "version": 3
   },
   "file_extension": ".py",
   "mimetype": "text/x-python",
   "name": "python",
   "nbconvert_exporter": "python",
   "pygments_lexer": "ipython3",
   "version": "3.8.8"
  }
 },
 "nbformat": 4,
 "nbformat_minor": 5
}
