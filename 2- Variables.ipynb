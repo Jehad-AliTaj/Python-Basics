{
 "cells": [
  {
   "cell_type": "markdown",
   "id": "f2735ea3",
   "metadata": {},
   "source": [
    "#  Variable\n",
    "  **In which we store data, and data can be int, str, float**\n",
    "  \n",
    "  **Variables are containers for storing data values.**"
   ]
  },
  {
   "cell_type": "code",
   "execution_count": 2,
   "id": "80a84de7",
   "metadata": {},
   "outputs": [
    {
     "name": "stdout",
     "output_type": "stream",
     "text": [
      "<class 'int'> <class 'float'> <class 'str'> <class 'complex'>\n"
     ]
    }
   ],
   "source": [
    "k=9\n",
    "j=0.02\n",
    "l= 'K'\n",
    "m= 1-2j\n",
    "print(type(k),type(j),type(l),type(m))"
   ]
  },
  {
   "cell_type": "markdown",
   "id": "687a64b0",
   "metadata": {},
   "source": [
    "# Casting"
   ]
  },
  {
   "cell_type": "markdown",
   "id": "5dd42e4e",
   "metadata": {},
   "source": [
    "**If you want to specify the data type of a variable, this can be done with casting.**"
   ]
  },
  {
   "cell_type": "code",
   "execution_count": 4,
   "id": "90c87f65",
   "metadata": {},
   "outputs": [
    {
     "name": "stdout",
     "output_type": "stream",
     "text": [
      "2 2.0 2 (2+0j)\n",
      "<class 'int'> <class 'float'> <class 'str'> <class 'complex'>\n"
     ]
    }
   ],
   "source": [
    "a=int (2)\n",
    "b=float(2)\n",
    "c=str(2)\n",
    "d=complex (2)\n",
    "\n",
    "print(a,b,c,d)\n",
    "\n",
    "print( type(a), type(b), type(c), type(d))"
   ]
  },
  {
   "cell_type": "markdown",
   "id": "003b911f",
   "metadata": {},
   "source": [
    "#  Python is Case-Sensitive \n",
    "\n",
    "**Variable names are case-sensitive.**"
   ]
  },
  {
   "cell_type": "markdown",
   "id": "ef75d119",
   "metadata": {},
   "source": [
    "**Example**\n",
    "\n",
    "**This will create two variables:**"
   ]
  },
  {
   "cell_type": "code",
   "execution_count": 1,
   "id": "91d1c8c0",
   "metadata": {},
   "outputs": [
    {
     "name": "stdout",
     "output_type": "stream",
     "text": [
      "2 3\n"
     ]
    }
   ],
   "source": [
    "n= 2\n",
    "N=3\n",
    "\n",
    "print(n,N)"
   ]
  },
  {
   "cell_type": "code",
   "execution_count": null,
   "id": "b5d7be2b",
   "metadata": {},
   "outputs": [],
   "source": []
  },
  {
   "cell_type": "markdown",
   "id": "58fc0616",
   "metadata": {},
   "source": [
    "# Variable Names"
   ]
  },
  {
   "cell_type": "markdown",
   "id": "7334adb8",
   "metadata": {},
   "source": [
    "## Rules for Python variables:"
   ]
  },
  {
   "cell_type": "markdown",
   "id": "6a2d0510",
   "metadata": {},
   "source": [
    " **1) Variable name cannot start from number**\n",
    "\n",
    "**2) A variable name must start with a letter or the underscore character**\n",
    "\n",
    "**3) A variable name can only contain alpha-numeric characters and underscores (A-z, 0-9, and _ )**\n",
    "\n",
    "**4) Variable names are case-sensitive (age, Age and AGE are three different variables)**\n"
   ]
  },
  {
   "cell_type": "code",
   "execution_count": 6,
   "id": "490d4c99",
   "metadata": {},
   "outputs": [
    {
     "ename": "SyntaxError",
     "evalue": "leading zeros in decimal integer literals are not permitted; use an 0o prefix for octal integers (<ipython-input-6-c93c04889ed8>, line 1)",
     "output_type": "error",
     "traceback": [
      "\u001b[1;36m  File \u001b[1;32m\"<ipython-input-6-c93c04889ed8>\"\u001b[1;36m, line \u001b[1;32m1\u001b[0m\n\u001b[1;33m    00971name=1122\u001b[0m\n\u001b[1;37m        ^\u001b[0m\n\u001b[1;31mSyntaxError\u001b[0m\u001b[1;31m:\u001b[0m leading zeros in decimal integer literals are not permitted; use an 0o prefix for octal integers\n"
     ]
    }
   ],
   "source": [
    "00971name=1122\n",
    "print(00971)"
   ]
  },
  {
   "cell_type": "code",
   "execution_count": null,
   "id": "bb643eed",
   "metadata": {},
   "outputs": [],
   "source": []
  },
  {
   "cell_type": "markdown",
   "id": "9bd670c7",
   "metadata": {},
   "source": [
    "# Multi Words Varibale names"
   ]
  },
  {
   "cell_type": "markdown",
   "id": "641d823f",
   "metadata": {},
   "source": [
    "#  1) Camel Case\n",
    "\n",
    "## all the starting letters will be capital except first letter -->\n",
    "  **For Example**"
   ]
  },
  {
   "cell_type": "code",
   "execution_count": 2,
   "id": "b731f6f9",
   "metadata": {},
   "outputs": [
    {
     "name": "stdout",
     "output_type": "stream",
     "text": [
      "khan\n"
     ]
    }
   ],
   "source": [
    "thisNameIsKhan= \"khan\"\n",
    "print(thisNameIsKhan)"
   ]
  },
  {
   "cell_type": "markdown",
   "id": "64b5cd4c",
   "metadata": {},
   "source": [
    "#  2) Pascal Case\n",
    "\n",
    "# All the starting letters are capital"
   ]
  },
  {
   "cell_type": "code",
   "execution_count": 3,
   "id": "aab7d4d2",
   "metadata": {},
   "outputs": [],
   "source": [
    "ThisIsPascalCase= 7"
   ]
  },
  {
   "cell_type": "markdown",
   "id": "20b04f6e",
   "metadata": {},
   "source": [
    "#  Snake Case"
   ]
  },
  {
   "cell_type": "code",
   "execution_count": 4,
   "id": "687eb06a",
   "metadata": {},
   "outputs": [
    {
     "name": "stdout",
     "output_type": "stream",
     "text": [
      "_Laka da Maar_\n"
     ]
    }
   ],
   "source": [
    "this_is_snake_case='_Laka da Maar_'\n",
    "print(this_is_snake_case)"
   ]
  },
  {
   "cell_type": "markdown",
   "id": "43c524bf",
   "metadata": {},
   "source": [
    "#  Many to many"
   ]
  },
  {
   "cell_type": "markdown",
   "id": "07f51d8a",
   "metadata": {},
   "source": [
    "**Multiple values can be assign to multiple variables**"
   ]
  },
  {
   "cell_type": "code",
   "execution_count": 16,
   "id": "41abc902",
   "metadata": {},
   "outputs": [
    {
     "name": "stdout",
     "output_type": "stream",
     "text": [
      "2\n",
      "0.002\n",
      "khan\n"
     ]
    }
   ],
   "source": [
    "a,b,c= 2,0.002,'khan'\n",
    "\n",
    "print (a)\n",
    "print (b)\n",
    "print (c)"
   ]
  },
  {
   "cell_type": "code",
   "execution_count": 18,
   "id": "49149e42",
   "metadata": {},
   "outputs": [
    {
     "name": "stdout",
     "output_type": "stream",
     "text": [
      "GulabKhan\n",
      "GulabKhan\n"
     ]
    }
   ],
   "source": [
    "a=b=c= 'GulabKhan'\n",
    "\n",
    "print(b)\n",
    "print (c)"
   ]
  },
  {
   "cell_type": "markdown",
   "id": "f531a70a",
   "metadata": {},
   "source": [
    "# One Value to Multiple Variables"
   ]
  },
  {
   "cell_type": "code",
   "execution_count": 2,
   "id": "9e7370d6",
   "metadata": {},
   "outputs": [
    {
     "name": "stdout",
     "output_type": "stream",
     "text": [
      "J E H A D\n",
      "J E H A D\n",
      "J E H A D\n"
     ]
    }
   ],
   "source": [
    "x = y = z = \"J E H A D\"\n",
    "print(x)\n",
    "print(y)\n",
    "print(z)"
   ]
  },
  {
   "cell_type": "markdown",
   "id": "0920b4ca",
   "metadata": {},
   "source": [
    "##  Unpack a Collection\n",
    "\n",
    "**If you have a collection of values in a list, tuple etc. Python allows you to extract the values into variables. This is called unpacking.**"
   ]
  },
  {
   "cell_type": "code",
   "execution_count": 6,
   "id": "302e3300",
   "metadata": {},
   "outputs": [
    {
     "name": "stdout",
     "output_type": "stream",
     "text": [
      "apple\n",
      "banana\n",
      "cherry\n",
      "daud\n",
      "Tariq\n"
     ]
    }
   ],
   "source": [
    "fruits = [\"apple\", \"banana\", \"cherry\", 'daud', 'Tariq']\n",
    "x, y, z , b, a= fruits\n",
    "print(x)\n",
    "print(y)\n",
    "print(z)\n",
    "print(b)\n",
    "print(a)"
   ]
  },
  {
   "cell_type": "markdown",
   "id": "881ca187",
   "metadata": {},
   "source": [
    "# Global Variables\n",
    "\n",
    "**Variables that are created outside of a function (as in all of the examples above) are known as global variables.\n",
    "Global variables can be used by everyone, both inside of functions and outside.**\n",
    "\n",
    "**Example**"
   ]
  },
  {
   "cell_type": "code",
   "execution_count": 1,
   "id": "c62ee295",
   "metadata": {},
   "outputs": [
    {
     "name": "stdout",
     "output_type": "stream",
     "text": [
      "Python is awesome\n"
     ]
    }
   ],
   "source": [
    "x = \"awesome\"\n",
    "\n",
    "def myfunc():\n",
    "      print(\"Python is \" + x)\n",
    "\n",
    "myfunc()\n"
   ]
  },
  {
   "cell_type": "code",
   "execution_count": 2,
   "id": "f085bd63",
   "metadata": {},
   "outputs": [
    {
     "name": "stdout",
     "output_type": "stream",
     "text": [
      "Python is awesome\n"
     ]
    }
   ],
   "source": [
    "myfunc()"
   ]
  },
  {
   "cell_type": "code",
   "execution_count": null,
   "id": "e90c1f8a",
   "metadata": {},
   "outputs": [],
   "source": []
  }
 ],
 "metadata": {
  "kernelspec": {
   "display_name": "Python 3",
   "language": "python",
   "name": "python3"
  },
  "language_info": {
   "codemirror_mode": {
    "name": "ipython",
    "version": 3
   },
   "file_extension": ".py",
   "mimetype": "text/x-python",
   "name": "python",
   "nbconvert_exporter": "python",
   "pygments_lexer": "ipython3",
   "version": "3.8.8"
  }
 },
 "nbformat": 4,
 "nbformat_minor": 5
}
