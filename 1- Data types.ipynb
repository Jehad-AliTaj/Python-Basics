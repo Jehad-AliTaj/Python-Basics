{
 "cells": [
  {
   "cell_type": "markdown",
   "id": "31e3ef30",
   "metadata": {},
   "source": [
    "# DATA TYPES\n",
    " **Built-in Data Types**\n",
    " \n",
    " **Variables can store data of different types, and different types can do different things.**\n",
    "\n",
    "**Python has the following data types built-in by default, in these categories:**\n",
    "\n",
    "**Text Type:\tstr**\n",
    "\n",
    "**Numeric Types:\tint, float, complex**\n",
    "\n",
    "**Sequence Types:\tlist, tuple, range**\n",
    "\n",
    "**Mapping Type:\tdict**\n",
    "\n",
    "**Set Types:\tset, frozenset**\n",
    "\n",
    "**Boolean Type:\tbool**\n",
    "\n"
   ]
  },
  {
   "cell_type": "markdown",
   "id": "bfd6898d",
   "metadata": {},
   "source": [
    "## You can get the data type of any object by using the type() function:\n",
    "### For Example:"
   ]
  },
  {
   "cell_type": "code",
   "execution_count": 3,
   "id": "fee35ff0",
   "metadata": {},
   "outputs": [
    {
     "name": "stdout",
     "output_type": "stream",
     "text": [
      "<class 'int'>\n",
      "<class 'str'>\n",
      "<class 'float'>\n",
      "<class 'complex'>\n"
     ]
    }
   ],
   "source": [
    "x = 5\n",
    "print(type(x))\n",
    "\n",
    "y= 'MyNameIsJehad'\n",
    "print(type(y))\n",
    "\n",
    "z= 0.005\n",
    "print(type(z))\n",
    "\n",
    "a= 1j \n",
    "print(type(a))"
   ]
  },
  {
   "cell_type": "markdown",
   "id": "2b0233cb",
   "metadata": {},
   "source": [
    "## Type Conversion\n",
    "#### You can convert from one type to another with the int(), float(), and complex() methods:"
   ]
  },
  {
   "cell_type": "markdown",
   "id": "c3dc82e4",
   "metadata": {},
   "source": [
    "#### Example\n",
    "\n",
    "**Convert from one type to another:**"
   ]
  },
  {
   "cell_type": "code",
   "execution_count": 4,
   "id": "04d1eae8",
   "metadata": {},
   "outputs": [
    {
     "name": "stdout",
     "output_type": "stream",
     "text": [
      "1.0\n",
      "2\n",
      "(1+0j)\n",
      "<class 'float'>\n",
      "<class 'int'>\n",
      "<class 'complex'>\n"
     ]
    }
   ],
   "source": [
    "x = 1    # int\n",
    "y = 2.8  # float\n",
    "z = 1j   # complex\n",
    "\n",
    "#convert from int to float:\n",
    "a = float(x)\n",
    "\n",
    "#convert from float to int:\n",
    "b = int(y)\n",
    "\n",
    "#convert from int to complex:\n",
    "c = complex(x)\n",
    "\n",
    "print(a)\n",
    "print(b)\n",
    "print(c)\n",
    "\n",
    "print(type(a))\n",
    "print(type(b))\n",
    "print(type(c))"
   ]
  },
  {
   "cell_type": "markdown",
   "id": "f28d4851",
   "metadata": {},
   "source": [
    "# 1) string is data type used to represent text data\n",
    " "
   ]
  },
  {
   "cell_type": "markdown",
   "id": "75be2a00",
   "metadata": {},
   "source": [
    "**we can say it is a sequence of character**"
   ]
  },
  {
   "cell_type": "markdown",
   "id": "be4bab5e",
   "metadata": {},
   "source": [
    "**there can be one or more than one character in a string**"
   ]
  },
  {
   "cell_type": "markdown",
   "id": "3eb3319c",
   "metadata": {},
   "source": [
    "**can be represented in a single, double, or tripple qoute marks**"
   ]
  },
  {
   "cell_type": "code",
   "execution_count": 7,
   "id": "9ee59723",
   "metadata": {},
   "outputs": [
    {
     "name": "stdout",
     "output_type": "stream",
     "text": [
      "This is an example of string\n"
     ]
    }
   ],
   "source": [
    "print('This is an example of string')"
   ]
  },
  {
   "cell_type": "markdown",
   "id": "71ff932a",
   "metadata": {},
   "source": [
    "# Operations on strings"
   ]
  },
  {
   "cell_type": "markdown",
   "id": "5aab0cc7",
   "metadata": {},
   "source": [
    "# 1) Concatination"
   ]
  },
  {
   "cell_type": "markdown",
   "id": "b13e4dab",
   "metadata": {},
   "source": [
    "**Joining any two strings, we put + sign between the two strings**"
   ]
  },
  {
   "cell_type": "code",
   "execution_count": 1,
   "id": "228938f7",
   "metadata": {},
   "outputs": [
    {
     "name": "stdout",
     "output_type": "stream",
     "text": [
      "jehad ali taj,This is my name okay, You can call me alitaj only\n"
     ]
    }
   ],
   "source": [
    "print('jehad ali taj,' + 'This is my name okay,' + ' You can call me alitaj only')"
   ]
  },
  {
   "cell_type": "code",
   "execution_count": 4,
   "id": "a6a78a68",
   "metadata": {},
   "outputs": [
    {
     "name": "stdout",
     "output_type": "stream",
     "text": [
      "j e h a d   a l i   t a j , T h i s   i s   m y   n a m e   o k a y ,   Y o u   c a n   c a l l   m e   j e h a d   o n l y\n"
     ]
    }
   ],
   "source": [
    "print(*'jehad ali taj,' + 'This is my name okay,' + ' You can call me jehad only')\n",
    "\n",
    "# just for fun and shtyle"
   ]
  },
  {
   "cell_type": "markdown",
   "id": "46a73ad5",
   "metadata": {},
   "source": [
    "# 2) Slicing \n",
    "### if you want to take the partial piece of list\n"
   ]
  },
  {
   "cell_type": "markdown",
   "id": "7c3c9fe0",
   "metadata": {},
   "source": [
    "**Example:**"
   ]
  },
  {
   "cell_type": "code",
   "execution_count": 5,
   "id": "4e7aee5a",
   "metadata": {},
   "outputs": [
    {
     "name": "stdout",
     "output_type": "stream",
     "text": [
      "LANGUAGE\n"
     ]
    }
   ],
   "source": [
    "print('LANGUAGE')"
   ]
  },
  {
   "cell_type": "code",
   "execution_count": 6,
   "id": "ca9af87a",
   "metadata": {},
   "outputs": [
    {
     "name": "stdout",
     "output_type": "stream",
     "text": [
      "ANGUAGE\n"
     ]
    }
   ],
   "source": [
    "print (\"LANGUAGE\" [1:])"
   ]
  },
  {
   "cell_type": "code",
   "execution_count": 7,
   "id": "597e33e6",
   "metadata": {},
   "outputs": [
    {
     "name": "stdout",
     "output_type": "stream",
     "text": [
      "NGUAGE\n"
     ]
    }
   ],
   "source": [
    "print (\"LANGUAGE\" [2:])"
   ]
  },
  {
   "cell_type": "code",
   "execution_count": 8,
   "id": "276dd141",
   "metadata": {},
   "outputs": [
    {
     "name": "stdout",
     "output_type": "stream",
     "text": [
      "ANGU\n"
     ]
    }
   ],
   "source": [
    "print (\"LANGUAGE\" [1:5])"
   ]
  },
  {
   "cell_type": "code",
   "execution_count": null,
   "id": "c6b30935",
   "metadata": {},
   "outputs": [],
   "source": []
  },
  {
   "cell_type": "markdown",
   "id": "12093968",
   "metadata": {},
   "source": [
    "#  3) Repetition of string"
   ]
  },
  {
   "cell_type": "code",
   "execution_count": 6,
   "id": "55c5c6a7",
   "metadata": {},
   "outputs": [
    {
     "name": "stdout",
     "output_type": "stream",
     "text": [
      "hey budyyhey budyyhey budyyhey budyyhey budyyhey budyyhey budyyhey budyyhey budyyhey budyyhey budyyhey budyyhey budyyhey budyyhey budyyhey budyyhey budyyhey budyyhey budyyhey budyyhey budyyhey budyyhey budyyhey budyyhey budyy\n"
     ]
    }
   ],
   "source": [
    "print(\"hey budyy\"*25)"
   ]
  },
  {
   "cell_type": "markdown",
   "id": "452ee8a3",
   "metadata": {},
   "source": [
    "#  SPecial characters in str"
   ]
  },
  {
   "cell_type": "code",
   "execution_count": 7,
   "id": "fdae305c",
   "metadata": {},
   "outputs": [
    {
     "ename": "SyntaxError",
     "evalue": "invalid syntax (<ipython-input-7-0cd170a80b76>, line 1)",
     "output_type": "error",
     "traceback": [
      "\u001b[1;36m  File \u001b[1;32m\"<ipython-input-7-0cd170a80b76>\"\u001b[1;36m, line \u001b[1;32m1\u001b[0m\n\u001b[1;33m    print('it's his book')\u001b[0m\n\u001b[1;37m              ^\u001b[0m\n\u001b[1;31mSyntaxError\u001b[0m\u001b[1;31m:\u001b[0m invalid syntax\n"
     ]
    }
   ],
   "source": [
    "print('it's his book')  \n",
    "      \n",
    "#       gives error because we have use outer single qoutes"
   ]
  },
  {
   "cell_type": "code",
   "execution_count": 8,
   "id": "a7481da1",
   "metadata": {},
   "outputs": [
    {
     "name": "stdout",
     "output_type": "stream",
     "text": [
      "it's his book\n"
     ]
    }
   ],
   "source": [
    "print(\"it's his book\")\n",
    "\n",
    "# Os zaka run sho che da ' special character dy nu bya ba double qoute use ky kha khan"
   ]
  },
  {
   "cell_type": "markdown",
   "id": "3d850d8c",
   "metadata": {},
   "source": [
    "#  Escape sequence in the string \n"
   ]
  },
  {
   "cell_type": "markdown",
   "id": "d7d74d02",
   "metadata": {},
   "source": [
    "**Use to suppress the meaning of special characters**"
   ]
  },
  {
   "cell_type": "markdown",
   "id": "e81cbfde",
   "metadata": {},
   "source": [
    "**For this we use backslash \\ before special char**"
   ]
  },
  {
   "cell_type": "code",
   "execution_count": 17,
   "id": "fb94358d",
   "metadata": {},
   "outputs": [
    {
     "name": "stdout",
     "output_type": "stream",
     "text": [
      "this is my ' book\n"
     ]
    }
   ],
   "source": [
    "print('this is my \\' book') "
   ]
  },
  {
   "cell_type": "code",
   "execution_count": 19,
   "id": "e0bba5f2",
   "metadata": {},
   "outputs": [
    {
     "name": "stdout",
     "output_type": "stream",
     "text": [
      "my name is janan\n"
     ]
    }
   ],
   "source": [
    "print ('my \\\n",
    "name \\\n",
    "is \\\n",
    "janan')\n",
    "\n",
    "# \\ at the end it is also use to ignore line space"
   ]
  },
  {
   "cell_type": "code",
   "execution_count": 25,
   "id": "800fa71d",
   "metadata": {},
   "outputs": [
    {
     "name": "stdout",
     "output_type": "stream",
     "text": [
      "Prison \\ break  \n"
     ]
    }
   ],
   "source": [
    "print( 'Prison \\\\ break  ')"
   ]
  },
  {
   "cell_type": "markdown",
   "id": "813ce90a",
   "metadata": {},
   "source": [
    "#  CLASS TASK No. 1"
   ]
  },
  {
   "cell_type": "code",
   "execution_count": 28,
   "id": "60f52af0",
   "metadata": {},
   "outputs": [
    {
     "name": "stdout",
     "output_type": "stream",
     "text": [
      "Baby Shark, Duh-dum (3X),\n",
      " \tSister Shark, Duh-dum (3X) ,\n",
      " \t\tBrother Shark, duh-dum (3X), \n",
      " \t \tMomma Shark,duh-dum(3X), \n",
      " Daddy Shark,duh-dum(3X), \n",
      " \t SHARK ATTAK! AHHHHHHH!, \n",
      " \t\t\tswim away from the shark, \n",
      " \t\t\tDuh-dum(faster 3X),  \n",
      " gotcha!\n"
     ]
    }
   ],
   "source": [
    "print ('Baby Shark, Duh-dum (3X),\\n \\\n",
    "\\tSister Shark, Duh-dum (3X) ,\\n \\\n",
    "\\t\\tBrother Shark, duh-dum (3X), \\n \\\n",
    "\\t \\tMomma Shark,duh-dum(3X), \\n \\\n",
    "Daddy Shark,duh-dum(3X), \\n \\\n",
    "\\t SHARK ATTAK! AHHHHHHH!, \\n \\\n",
    "\\t\\t\\tswim away from the shark, \\n \\\n",
    "\\t\\t\\tDuh-dum(faster 3X),  \\n \\\n",
    "gotcha!')"
   ]
  },
  {
   "cell_type": "code",
   "execution_count": null,
   "id": "22a056b3",
   "metadata": {},
   "outputs": [],
   "source": []
  }
 ],
 "metadata": {
  "kernelspec": {
   "display_name": "Python 3",
   "language": "python",
   "name": "python3"
  },
  "language_info": {
   "codemirror_mode": {
    "name": "ipython",
    "version": 3
   },
   "file_extension": ".py",
   "mimetype": "text/x-python",
   "name": "python",
   "nbconvert_exporter": "python",
   "pygments_lexer": "ipython3",
   "version": "3.8.8"
  }
 },
 "nbformat": 4,
 "nbformat_minor": 5
}
